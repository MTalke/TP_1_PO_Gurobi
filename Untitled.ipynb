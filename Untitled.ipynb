{
 "cells": [
  {
   "cell_type": "code",
   "execution_count": 15,
   "metadata": {},
   "outputs": [
    {
     "name": "stdout",
     "output_type": "stream",
     "text": [
      "Gurobi Optimizer version 9.1.0 build v9.1.0rc0 (linux64)\n",
      "Thread count: 2 physical cores, 4 logical processors, using up to 4 threads\n",
      "Optimize a model with 9 rows, 6 columns and 12 nonzeros\n",
      "Model fingerprint: 0xb6ce5169\n",
      "Variable types: 0 continuous, 6 integer (6 binary)\n",
      "Coefficient statistics:\n",
      "  Matrix range     [1e+00, 5e+00]\n",
      "  Objective range  [1e+02, 2e+02]\n",
      "  Bounds range     [1e+00, 1e+00]\n",
      "  RHS range        [9e+01, 1e+02]\n",
      "Found heuristic solution: objective 810.0000000\n",
      "\n",
      "Explored 0 nodes (0 simplex iterations) in 0.01 seconds\n",
      "Thread count was 1 (of 4 available processors)\n",
      "\n",
      "Solution count 1: 810 \n",
      "\n",
      "Optimal solution found (tolerance 1.00e-04)\n",
      "Best objective 8.100000000000e+02, best bound 8.100000000000e+02, gap 0.0000%\n",
      "Quantidade de P1 com recurso 1 1\n",
      "Quantidade de P1 com recurso 2 1\n",
      "Quantidade de P1 com recurso 3 1\n",
      "Quantidade de P2 com recurso 1 1\n",
      "Quantidade de P2 com recurso 2 1\n",
      "Quantidade de P2 com recurso 3 1\n",
      "Objetivo: 810\n"
     ]
    }
   ],
   "source": [
    "import gurobipy as gp\n",
    "from gurobipy import GRB\n",
    "\n",
    "try:\n",
    "\n",
    "    # Create a new model\n",
    "    m = gp.Model(\"questao5\")\n",
    "\n",
    "    # Create variables\n",
    "    x1r1 = m.addVar(vtype=GRB.BINARY, name=\"Quantidade de P1 com recurso 1\")\n",
    "    x1r2 = m.addVar(vtype=GRB.BINARY, name=\"Quantidade de P1 com recurso 2\")\n",
    "    x1r3 = m.addVar(vtype=GRB.BINARY, name=\"Quantidade de P1 com recurso 3\")\n",
    "    x2r1 = m.addVar(vtype=GRB.BINARY, name=\"Quantidade de P2 com recurso 1\")\n",
    "    x2r2 = m.addVar(vtype=GRB.BINARY, name=\"Quantidade de P2 com recurso 2\")\n",
    "    x2r3 = m.addVar(vtype=GRB.BINARY, name=\"Quantidade de P2 com recurso 3\")\n",
    "\n",
    "\n",
    "    # Set objective\n",
    "    m.setObjective(120 * (x1r1 + x1r2 + x1r3 ) + 150 * (x2r1 + x2r2 + x2r3 ), GRB.MAXIMIZE)\n",
    "\n",
    "    # Add constraint: 2.x1r1 + 4.x2r1 <= 100\n",
    "    m.addConstr(2 * x1r1 + 4 * x2r1 <= 100, \"primeira restricao\")\n",
    "\n",
    "    # Add constraint: 3.x1r1 + 2.x2r1 <= 90\n",
    "    m.addConstr(3 * x1r2 + 2 * x2r2 <= 90, \"segunda restricao\")\n",
    "    \n",
    "    # Add constraint: x2 <= 700\n",
    "    m.addConstr(5 * x1r3 + 3 * x2r3 <= 120, \"terceira restricao\")\n",
    "\n",
    "    m.addConstr(x1r1 >= 0, \"quarta restricao\")\n",
    "    \n",
    "    m.addConstr(x1r2 >= 0, \"quinta restricao\")\n",
    "\n",
    "    m.addConstr(x1r3 >= 0, \"sexta restricao\")\n",
    "\n",
    "    m.addConstr(x2r1 >= 0, \"setima restricao\")\n",
    "\n",
    "    m.addConstr(x2r2 >= 0, \"oitava restricao\")\n",
    "\n",
    "    m.addConstr(x2r3 >= 0, \"nona restricao\")\n",
    "\n",
    "    \n",
    "    # Optimize model\n",
    "    m.optimize()\n",
    "\n",
    "    for v in m.getVars():\n",
    "        print('%s %g' % (v.varName, v.x))\n",
    "\n",
    "    print('Objetivo: %g' % m.objVal)\n",
    "\n",
    "except gp.GurobiError as e:\n",
    "    print('Erro no codigo ' + str(e.errno) + ': ' + str(e))\n",
    "\n",
    "except AttributeError:\n",
    "    print('Encontrado atributo errado')"
   ]
  },
  {
   "cell_type": "code",
   "execution_count": null,
   "metadata": {},
   "outputs": [],
   "source": []
  }
 ],
 "metadata": {
  "kernelspec": {
   "display_name": "Python 3",
   "language": "python",
   "name": "python3"
  },
  "language_info": {
   "codemirror_mode": {
    "name": "ipython",
    "version": 3
   },
   "file_extension": ".py",
   "mimetype": "text/x-python",
   "name": "python",
   "nbconvert_exporter": "python",
   "pygments_lexer": "ipython3",
   "version": "3.8.3"
  }
 },
 "nbformat": 4,
 "nbformat_minor": 4
}
